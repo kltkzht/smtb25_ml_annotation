{
 "cells": [
  {
   "cell_type": "code",
   "execution_count": null,
   "id": "e400995e-f414-4bce-8e5d-dc9654fedef8",
   "metadata": {},
   "outputs": [],
   "source": [
    "import requests\n",
    "import os\n",
    "import pathlib\n",
    "import pprint\n",
    "import json\n",
    "from docutils.nodes import title\n",
    "\n",
    "EMAIL = os.getenv(\"EMAIL\")\n",
    "\n",
    "BASE_URL = \"https://api.openalex.org/works\"\n",
    "\n",
    "def works_with_oa(query, first_n=1):\n",
    "    params = {\n",
    "        'filter': f'abstract.search:\"{query}\",best_open_version:published',\n",
    "        'per-page': first_n,\n",
    "        'select':'id,title,best_oa_location',\n",
    "        'mailto': EMAIL\n",
    "    }\n",
    "    papers = requests.get(BASE_URL, params=params).json()['results']\n",
    "    return papers"
   ]
  }
 ],
 "metadata": {
  "kernelspec": {
   "display_name": "Python 3 (ipykernel)",
   "language": "python",
   "name": "python3"
  },
  "language_info": {
   "codemirror_mode": {
    "name": "ipython",
    "version": 3
   },
   "file_extension": ".py",
   "mimetype": "text/x-python",
   "name": "python",
   "nbconvert_exporter": "python",
   "pygments_lexer": "ipython3",
   "version": "3.12.2"
  }
 },
 "nbformat": 4,
 "nbformat_minor": 5
}
